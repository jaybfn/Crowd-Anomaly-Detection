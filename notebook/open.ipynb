{
 "cells": [
  {
   "cell_type": "code",
   "execution_count": 25,
   "metadata": {},
   "outputs": [],
   "source": [
    "import scipy.io\n",
    "import numpy as np\n",
    "from PIL import Image as im\n",
    "mat_lab = scipy.io.loadmat('../../Zummit/Project2_Crowd_Anamoly_Detection/ground_truth_demo/ground_truth_demo/testing_label_mask/1_label.mat')"
   ]
  },
  {
   "cell_type": "code",
   "execution_count": 43,
   "metadata": {},
   "outputs": [
    {
     "name": "stdout",
     "output_type": "stream",
     "text": [
      "(1, 1439)\n"
     ]
    }
   ],
   "source": [
    "\n",
    "#7print(mat_lab)\n",
    "print(mat_lab['volLabel'].shape)"
   ]
  },
  {
   "cell_type": "code",
   "execution_count": 49,
   "metadata": {},
   "outputs": [
    {
     "name": "stdout",
     "output_type": "stream",
     "text": [
      "[[array([[0, 0, 0, ..., 0, 0, 0],\n",
      "         [0, 0, 0, ..., 0, 0, 0],\n",
      "         [0, 0, 0, ..., 0, 0, 0],\n",
      "         ...,\n",
      "         [0, 0, 0, ..., 0, 0, 0],\n",
      "         [0, 0, 0, ..., 0, 0, 0],\n",
      "         [0, 0, 0, ..., 0, 0, 0]], dtype=uint8)]]\n"
     ]
    }
   ],
   "source": [
    "print(mat_lab['volLabel'][:,:1])"
   ]
  },
  {
   "cell_type": "code",
   "execution_count": 55,
   "metadata": {},
   "outputs": [
    {
     "ename": "ValueError",
     "evalue": "setting an array element with a sequence.",
     "output_type": "error",
     "traceback": [
      "\u001b[1;31m---------------------------------------------------------------------------\u001b[0m",
      "\u001b[1;31mTypeError\u001b[0m                                 Traceback (most recent call last)",
      "\u001b[1;31mTypeError\u001b[0m: only size-1 arrays can be converted to Python scalars",
      "\nThe above exception was the direct cause of the following exception:\n",
      "\u001b[1;31mValueError\u001b[0m                                Traceback (most recent call last)",
      "\u001b[1;32mc:\\Users\\Asus\\Desktop\\Jayesh_ML\\Crowd-Anomaly-Detection-\\script\\open.ipynb Cell 4\u001b[0m in \u001b[0;36m<cell line: 1>\u001b[1;34m()\u001b[0m\n\u001b[1;32m----> <a href='vscode-notebook-cell:/c%3A/Users/Asus/Desktop/Jayesh_ML/Crowd-Anomaly-Detection-/script/open.ipynb#W2sZmlsZQ%3D%3D?line=0'>1</a>\u001b[0m img \u001b[39m=\u001b[39m im\u001b[39m.\u001b[39mfromarray((mat_lab[\u001b[39m'\u001b[39;49m\u001b[39mvolLabel\u001b[39;49m\u001b[39m'\u001b[39;49m][:,:\u001b[39m1\u001b[39;49m]\u001b[39m*\u001b[39;49m\u001b[39m255\u001b[39;49m)\u001b[39m.\u001b[39;49mastype(np\u001b[39m.\u001b[39;49muint8))\n",
      "\u001b[1;31mValueError\u001b[0m: setting an array element with a sequence."
     ]
    }
   ],
   "source": [
    "\n",
    "img = im.fromarray((mat_lab['volLabel'][:,:1]*255).astype(np.uint8))\n",
    "\n"
   ]
  },
  {
   "cell_type": "code",
   "execution_count": 15,
   "metadata": {},
   "outputs": [],
   "source": [
    "img.show()"
   ]
  },
  {
   "cell_type": "code",
   "execution_count": 9,
   "metadata": {},
   "outputs": [
    {
     "name": "stdout",
     "output_type": "stream",
     "text": [
      "JPEG\n",
      "RGB\n",
      "(640, 360)\n"
     ]
    }
   ],
   "source": [
    "\n",
    "from PIL import Image\n",
    "from skimage import data, color\n",
    "from skimage.transform import rescale, resize, downscale_local_mean\n",
    "import keras\n",
    "from tensorflow.keras.utils import img_to_array\n",
    "# load the image\n",
    "image = Image.open('../data/frames_test/0image1.jpg')\n",
    "# summarize some details about the image\n",
    "print(image.format)\n",
    "print(image.mode)\n",
    "print(image.size)\n",
    "# show the image\n",
    "image.show()"
   ]
  },
  {
   "cell_type": "code",
   "execution_count": 10,
   "metadata": {},
   "outputs": [],
   "source": [
    "img=img_to_array(image)"
   ]
  },
  {
   "cell_type": "code",
   "execution_count": 11,
   "metadata": {},
   "outputs": [],
   "source": [
    "img=resize(img,(227,227,3))"
   ]
  },
  {
   "cell_type": "code",
   "execution_count": null,
   "metadata": {},
   "outputs": [],
   "source": []
  }
 ],
 "metadata": {
  "kernelspec": {
   "display_name": "Python 3.9.7 ('deepL')",
   "language": "python",
   "name": "python3"
  },
  "language_info": {
   "codemirror_mode": {
    "name": "ipython",
    "version": 3
   },
   "file_extension": ".py",
   "mimetype": "text/x-python",
   "name": "python",
   "nbconvert_exporter": "python",
   "pygments_lexer": "ipython3",
   "version": "3.9.7"
  },
  "orig_nbformat": 4,
  "vscode": {
   "interpreter": {
    "hash": "b90cab7ea642421f44636989edaf96d86cb1abe354b45ce6eed3b362842c2584"
   }
  }
 },
 "nbformat": 4,
 "nbformat_minor": 2
}
