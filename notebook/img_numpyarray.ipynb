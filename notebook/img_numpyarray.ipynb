{
 "cells": [
  {
   "cell_type": "code",
   "execution_count": 51,
   "metadata": {},
   "outputs": [],
   "source": [
    "import numpy as np\n",
    "import cv2\n",
    "from PIL import Image as im\n",
    "from PIL import Image\n",
    "import os\n",
    "from os import listdir\n",
    "from skimage import data, color\n",
    "from skimage.transform import rescale, resize, downscale_local_mean\n",
    "from tensorflow.keras.utils import img_to_array\n",
    "from sklearn.preprocessing import MinMaxScaler\n"
   ]
  },
  {
   "cell_type": "code",
   "execution_count": 57,
   "metadata": {},
   "outputs": [],
   "source": [
    "# data normalization\n",
    "scaler = MinMaxScaler()\n",
    "\n",
    "image_gray = []\n",
    "def data_preprocessing(image):\n",
    "\n",
    "    img=img_to_array(image)\n",
    "    img=resize(img,(227,227,3))\n",
    "    gray_img=0.2989*img[:,:,0]+0.5870*img[:,:,1]+0.1140*img[:,:,2]\n",
    "    gray_img_scaled = scaler.fit_transform(gray_img)\n",
    "    image_gray.append(gray_img_scaled)\n",
    "    return image_gray"
   ]
  },
  {
   "cell_type": "code",
   "execution_count": 59,
   "metadata": {},
   "outputs": [],
   "source": [
    "src_path_train = \"../data/frames_train/img_tr/\"\n",
    "src_path_val = \"../data/frames_val/img_val/\"\n",
    "src_path_test = \"../data/frames_test/img_te/\"\n",
    "\n",
    "\n",
    "folder_dir = [src_path_train, src_path_val, src_path_test]\n",
    "file_names = ['train.npy', 'validation.npy', 'test.npy']\n",
    "for dir, names in zip(folder_dir, file_names):\n",
    "    for images in os.listdir(dir):\n",
    "        img = Image.open(dir + images)\n",
    "        image_gray = data_preprocessing(img)\n",
    "    gray_npimg = np.array(image_gray)\n",
    "    nr_img, x_size, y_size = gray_npimg.shape\n",
    "    gray_npimg.resize(x_size, y_size,nr_img)\n",
    "    gray_npimg=np.clip(gray_npimg,0,1)\n",
    "    np.save('../data/'+names, gray_npimg)\n",
    "\n",
    "\n",
    "    \n"
   ]
  },
  {
   "cell_type": "code",
   "execution_count": 60,
   "metadata": {},
   "outputs": [],
   "source": [
    "X_train=np.load('../data/train.npy')\n",
    "frames=X_train.shape[2]"
   ]
  },
  {
   "cell_type": "code",
   "execution_count": 61,
   "metadata": {},
   "outputs": [
    {
     "name": "stdout",
     "output_type": "stream",
     "text": [
      "(227, 227, 14221)\n"
     ]
    }
   ],
   "source": [
    "print(X_train.shape)"
   ]
  },
  {
   "cell_type": "code",
   "execution_count": null,
   "metadata": {},
   "outputs": [],
   "source": []
  }
 ],
 "metadata": {
  "kernelspec": {
   "display_name": "Python 3.9.7 ('deepL')",
   "language": "python",
   "name": "python3"
  },
  "language_info": {
   "codemirror_mode": {
    "name": "ipython",
    "version": 3
   },
   "file_extension": ".py",
   "mimetype": "text/x-python",
   "name": "python",
   "nbconvert_exporter": "python",
   "pygments_lexer": "ipython3",
   "version": "3.9.7"
  },
  "orig_nbformat": 4,
  "vscode": {
   "interpreter": {
    "hash": "b90cab7ea642421f44636989edaf96d86cb1abe354b45ce6eed3b362842c2584"
   }
  }
 },
 "nbformat": 4,
 "nbformat_minor": 2
}
